{
  "nbformat": 4,
  "nbformat_minor": 0,
  "metadata": {
    "colab": {
      "provenance": [],
      "authorship_tag": "ABX9TyOScy+vpzqJbbZYDNevaanb",
      "include_colab_link": true
    },
    "kernelspec": {
      "name": "python3",
      "display_name": "Python 3"
    },
    "language_info": {
      "name": "python"
    }
  },
  "cells": [
    {
      "cell_type": "markdown",
      "metadata": {
        "id": "view-in-github",
        "colab_type": "text"
      },
      "source": [
        "<a href=\"https://colab.research.google.com/github/sidhu2690/Academic-materials/blob/main/Electromagnetic_Shower.ipynb\" target=\"_parent\"><img src=\"https://colab.research.google.com/assets/colab-badge.svg\" alt=\"Open In Colab\"/></a>"
      ]
    },
    {
      "cell_type": "code",
      "execution_count": 11,
      "metadata": {
        "id": "FAWKEgVSpDCG"
      },
      "outputs": [],
      "source": [
        "import numpy as np\n",
        "import matplotlib.pyplot as plt"
      ]
    },
    {
      "cell_type": "code",
      "source": [
        "class particle_shower(object):\n",
        "  def __init__(self, E0, X, E_cut):\n",
        "    self.E0 = E0\n",
        "    self.X  = X\n",
        "\n",
        "    self.Ec = E_cut\n",
        "    self.particle_type = {0: \"Electron\", 1: \"Positron\", 2: \"Photon\"}\n",
        "    self.particles = np.array([[0, E0, 0]])\n",
        "    self.particles_in_depth = np.zeros(X+1)\n",
        "\n",
        "\n",
        "  def shower(self):\n",
        "\n",
        "    self.particles_in_depth[0] = np.sum(self.particles[:, 2] == 0)\n",
        "\n",
        "    for depth in range(1, self.X + 1):\n",
        "\n",
        "        new_particles = []\n",
        "\n",
        "        for particle_type, energy, p_depth in self.particles:\n",
        "            if int(p_depth) == depth - 1 and energy >= self.Ec:\n",
        "\n",
        "                if particle_type in [0, 1]:\n",
        "                    E_out = energy * np.exp(-1)\n",
        "                    gamma = energy - E_out\n",
        "\n",
        "                    if E_out > self.Ec:\n",
        "                        new_particles.append([particle_type, E_out, depth])\n",
        "                    if gamma > self.Ec:\n",
        "                        new_particles.append([2, gamma, depth])\n",
        "\n",
        "                elif particle_type == 2:\n",
        "                    E_pair = energy / 2\n",
        "\n",
        "                    if E_pair > self.Ec:\n",
        "                        new_particles.append([0, E_pair, depth])\n",
        "                        new_particles.append([1, E_pair, depth])\n",
        "\n",
        "        if new_particles:\n",
        "            self.particles = np.vstack([self.particles, new_particles])\n",
        "\n",
        "        self.particles_in_depth[depth] = np.sum(self.particles[:, 2] == depth)\n",
        "\n",
        "\n",
        "\n",
        "  def print_summary(self):\n",
        "    print(f\"Initial Energy: {self.E0} GeV | X = {self.X} X_0 | Critical Energy: {self.Ec} GeV \"), print(\"\")\n",
        "    print(\"Depth-wise particle count:\")\n",
        "    for d in range(self.X + 1):\n",
        "        count = int(np.sum(self.particles[:, 2] == d))\n",
        "        print(f\"\\nX0={d}: {count} particles\")\n",
        "\n",
        "        particles_at_d = self.particles[self.particles[:, 2] == d]\n",
        "\n",
        "        for particle_type, energy, _ in particles_at_d:\n",
        "            p_name = self.particle_type[int(particle_type)]\n",
        "            print(f\"    {p_name:8} | Energy = {energy:.4f} GeV\")\n",
        "    print(f\"\\nTotal particles: {len(self.particles)}\")\n",
        "\n",
        "  def plot_shower(self):\n",
        "    plt.figure(figsize=(8, 6))\n",
        "\n",
        "    depths = np.arange(0, self.X + 1)\n",
        "    counts = self.particles_in_depth\n",
        "\n",
        "    plt.bar(depths, counts, color='skyblue', edgecolor='black')\n",
        "\n",
        "    plt.xlabel(\"Depth (in X0)\")\n",
        "    plt.ylabel(\"Number of Particles\")\n",
        "    plt.title(\"Number of Particles per Layer in EM Shower\")\n",
        "    plt.grid(True, linestyle=\"--\", alpha=0.6)\n",
        "    plt.tight_layout()\n",
        "    plt.show()"
      ],
      "metadata": {
        "id": "MFAqE-VoM-VG"
      },
      "execution_count": 16,
      "outputs": []
    },
    {
      "cell_type": "code",
      "source": [
        "simulation = particle_shower(E0 = 1, X = 8, E_cut = 20.17*10E-4)\n",
        "simulation.shower()\n",
        "simulation.print_summary()"
      ],
      "metadata": {
        "colab": {
          "base_uri": "https://localhost:8080/"
        },
        "id": "jhQ51WMe4W-l",
        "outputId": "f1fb2978-aef8-4d4e-f580-a0d2867c0d4f"
      },
      "execution_count": 17,
      "outputs": [
        {
          "output_type": "stream",
          "name": "stdout",
          "text": [
            "Initial Energy: 1 GeV | X = 8 X_0 | Critical Energy: 0.02017 GeV \n",
            "\n",
            "Depth-wise particle count:\n",
            "\n",
            "X0=0: 1 particles\n",
            "    Electron | Energy = 1.0000 GeV\n",
            "\n",
            "X0=1: 2 particles\n",
            "    Electron | Energy = 0.3679 GeV\n",
            "    Photon   | Energy = 0.6321 GeV\n",
            "\n",
            "X0=2: 4 particles\n",
            "    Electron | Energy = 0.1353 GeV\n",
            "    Photon   | Energy = 0.2325 GeV\n",
            "    Electron | Energy = 0.3161 GeV\n",
            "    Positron | Energy = 0.3161 GeV\n",
            "\n",
            "X0=3: 8 particles\n",
            "    Electron | Energy = 0.0498 GeV\n",
            "    Photon   | Energy = 0.0855 GeV\n",
            "    Electron | Energy = 0.1163 GeV\n",
            "    Positron | Energy = 0.1163 GeV\n",
            "    Electron | Energy = 0.1163 GeV\n",
            "    Photon   | Energy = 0.1998 GeV\n",
            "    Positron | Energy = 0.1163 GeV\n",
            "    Photon   | Energy = 0.1998 GeV\n",
            "\n",
            "X0=4: 15 particles\n",
            "    Photon   | Energy = 0.0315 GeV\n",
            "    Electron | Energy = 0.0428 GeV\n",
            "    Positron | Energy = 0.0428 GeV\n",
            "    Electron | Energy = 0.0428 GeV\n",
            "    Photon   | Energy = 0.0735 GeV\n",
            "    Positron | Energy = 0.0428 GeV\n",
            "    Photon   | Energy = 0.0735 GeV\n",
            "    Electron | Energy = 0.0428 GeV\n",
            "    Photon   | Energy = 0.0735 GeV\n",
            "    Electron | Energy = 0.0999 GeV\n",
            "    Positron | Energy = 0.0999 GeV\n",
            "    Positron | Energy = 0.0428 GeV\n",
            "    Photon   | Energy = 0.0735 GeV\n",
            "    Electron | Energy = 0.0999 GeV\n",
            "    Positron | Energy = 0.0999 GeV\n",
            "\n",
            "X0=5: 22 particles\n",
            "    Photon   | Energy = 0.0270 GeV\n",
            "    Photon   | Energy = 0.0270 GeV\n",
            "    Photon   | Energy = 0.0270 GeV\n",
            "    Electron | Energy = 0.0367 GeV\n",
            "    Positron | Energy = 0.0367 GeV\n",
            "    Photon   | Energy = 0.0270 GeV\n",
            "    Electron | Energy = 0.0367 GeV\n",
            "    Positron | Energy = 0.0367 GeV\n",
            "    Photon   | Energy = 0.0270 GeV\n",
            "    Electron | Energy = 0.0367 GeV\n",
            "    Positron | Energy = 0.0367 GeV\n",
            "    Electron | Energy = 0.0367 GeV\n",
            "    Photon   | Energy = 0.0631 GeV\n",
            "    Positron | Energy = 0.0367 GeV\n",
            "    Photon   | Energy = 0.0631 GeV\n",
            "    Photon   | Energy = 0.0270 GeV\n",
            "    Electron | Energy = 0.0367 GeV\n",
            "    Positron | Energy = 0.0367 GeV\n",
            "    Electron | Energy = 0.0367 GeV\n",
            "    Photon   | Energy = 0.0631 GeV\n",
            "    Positron | Energy = 0.0367 GeV\n",
            "    Photon   | Energy = 0.0631 GeV\n",
            "\n",
            "X0=6: 20 particles\n",
            "    Photon   | Energy = 0.0232 GeV\n",
            "    Photon   | Energy = 0.0232 GeV\n",
            "    Photon   | Energy = 0.0232 GeV\n",
            "    Photon   | Energy = 0.0232 GeV\n",
            "    Photon   | Energy = 0.0232 GeV\n",
            "    Photon   | Energy = 0.0232 GeV\n",
            "    Photon   | Energy = 0.0232 GeV\n",
            "    Electron | Energy = 0.0316 GeV\n",
            "    Positron | Energy = 0.0316 GeV\n",
            "    Photon   | Energy = 0.0232 GeV\n",
            "    Electron | Energy = 0.0316 GeV\n",
            "    Positron | Energy = 0.0316 GeV\n",
            "    Photon   | Energy = 0.0232 GeV\n",
            "    Photon   | Energy = 0.0232 GeV\n",
            "    Photon   | Energy = 0.0232 GeV\n",
            "    Electron | Energy = 0.0316 GeV\n",
            "    Positron | Energy = 0.0316 GeV\n",
            "    Photon   | Energy = 0.0232 GeV\n",
            "    Electron | Energy = 0.0316 GeV\n",
            "    Positron | Energy = 0.0316 GeV\n",
            "\n",
            "X0=7: 0 particles\n",
            "\n",
            "X0=8: 0 particles\n",
            "\n",
            "Total particles: 72\n"
          ]
        }
      ]
    },
    {
      "cell_type": "code",
      "source": [
        "simulation = particle_shower(E0 = 10, X = 3, E_cut = 1)\n",
        "simulation.shower()\n",
        "simulation.print_summary()"
      ],
      "metadata": {
        "colab": {
          "base_uri": "https://localhost:8080/"
        },
        "id": "LDteJPOYpoK3",
        "outputId": "00a47867-a542-4621-c0d7-8112509b69b1"
      },
      "execution_count": 18,
      "outputs": [
        {
          "output_type": "stream",
          "name": "stdout",
          "text": [
            "Initial Energy: 10 GeV | X = 3 X_0 | Critical Energy: 1 GeV \n",
            "\n",
            "Depth-wise particle count:\n",
            "\n",
            "X0=0: 1 particles\n",
            "    Electron | Energy = 10.0000 GeV\n",
            "\n",
            "X0=1: 2 particles\n",
            "    Electron | Energy = 3.6788 GeV\n",
            "    Photon   | Energy = 6.3212 GeV\n",
            "\n",
            "X0=2: 4 particles\n",
            "    Electron | Energy = 1.3534 GeV\n",
            "    Photon   | Energy = 2.3254 GeV\n",
            "    Electron | Energy = 3.1606 GeV\n",
            "    Positron | Energy = 3.1606 GeV\n",
            "\n",
            "X0=3: 6 particles\n",
            "    Electron | Energy = 1.1627 GeV\n",
            "    Positron | Energy = 1.1627 GeV\n",
            "    Electron | Energy = 1.1627 GeV\n",
            "    Photon   | Energy = 1.9979 GeV\n",
            "    Positron | Energy = 1.1627 GeV\n",
            "    Photon   | Energy = 1.9979 GeV\n",
            "\n",
            "Total particles: 13\n"
          ]
        }
      ]
    },
    {
      "cell_type": "code",
      "source": [
        "simulation.plot_shower()"
      ],
      "metadata": {
        "colab": {
          "base_uri": "https://localhost:8080/",
          "height": 607
        },
        "id": "w47r2MkwwAvd",
        "outputId": "e2612c21-5100-4295-ded1-b79ed862be77"
      },
      "execution_count": 19,
      "outputs": [
        {
          "output_type": "display_data",
          "data": {
            "text/plain": [
              "<Figure size 800x600 with 1 Axes>"
            ],
            "image/png": "[encoded data removed]"
          },
          "metadata": {}
        }
      ]
    },
    {
      "cell_type": "code",
      "source": [],
      "metadata": {
        "id": "kaTBlfO_x6vm"
      },
      "execution_count": null,
      "outputs": []
    }
  ]
}